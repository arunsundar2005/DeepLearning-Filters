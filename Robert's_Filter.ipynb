{
  "nbformat": 4,
  "nbformat_minor": 0,
  "metadata": {
    "colab": {
      "provenance": [],
      "authorship_tag": "ABX9TyMXyJxBlPfKJ8PQ0Q0xXgqF",
      "include_colab_link": true
    },
    "kernelspec": {
      "name": "python3",
      "display_name": "Python 3"
    },
    "language_info": {
      "name": "python"
    }
  },
  "cells": [
    {
      "cell_type": "markdown",
      "metadata": {
        "id": "view-in-github",
        "colab_type": "text"
      },
      "source": [
        "<a href=\"https://colab.research.google.com/github/arunsundar2005/DeepLearning-Filters/blob/main/Robert's_Filter.ipynb\" target=\"_parent\"><img src=\"https://colab.research.google.com/assets/colab-badge.svg\" alt=\"Open In Colab\"/></a>"
      ]
    },
    {
      "cell_type": "code",
      "execution_count": null,
      "metadata": {
        "colab": {
          "base_uri": "https://localhost:8080/"
        },
        "id": "BYjzFEgoSUWz",
        "outputId": "d02a1500-5aa7-46b8-98df-bf8cac339d41"
      },
      "outputs": [
        {
          "output_type": "stream",
          "name": "stdout",
          "text": [
            "Requirement already satisfied: opencv-python in /usr/local/lib/python3.10/dist-packages (4.10.0.84)\n",
            "Requirement already satisfied: numpy>=1.21.2 in /usr/local/lib/python3.10/dist-packages (from opencv-python) (1.26.4)\n"
          ]
        }
      ],
      "source": [
        "!pip install opencv-python\n"
      ]
    },
    {
      "cell_type": "code",
      "source": [
        "!pip install numpy"
      ],
      "metadata": {
        "colab": {
          "base_uri": "https://localhost:8080/"
        },
        "id": "VkEaouLXTFqk",
        "outputId": "76b9c7cb-c557-4d65-b27a-cc3b10cc98e3"
      },
      "execution_count": null,
      "outputs": [
        {
          "output_type": "stream",
          "name": "stdout",
          "text": [
            "Requirement already satisfied: numpy in /usr/local/lib/python3.10/dist-packages (1.26.4)\n"
          ]
        }
      ]
    },
    {
      "cell_type": "code",
      "source": [
        "import numpy as np\n",
        "import cv2\n",
        "from scipy import ndimage\n",
        "\n",
        "g_x = np.array([[1,0],[0,-1]])\n",
        "g_y = np.array([[0,1],[-1,0]])\n",
        "\n",
        "img = cv2.imread(\"/content/mouse.jpeg\", 0).astype('float64')\n",
        "\n",
        "# img = img/255\n",
        "\n",
        "vert = ndimage.convolve(img, g_x)\n",
        "horz = ndimage.convolve(img, g_y)\n",
        "\n",
        "edge_img = np.sqrt(np.square(horz) + np.square(vert))\n",
        "\n",
        "# edge_img = edge_img*255\n",
        "\n",
        "cv2.imwrite(\"/content/output.jpg\", edge_img)"
      ],
      "metadata": {
        "id": "Ob_JD--vTKAx",
        "colab": {
          "base_uri": "https://localhost:8080/"
        },
        "outputId": "8c10877a-5ef1-4a3d-b7d3-85cdd0360879"
      },
      "execution_count": null,
      "outputs": [
        {
          "output_type": "execute_result",
          "data": {
            "text/plain": [
              "True"
            ]
          },
          "metadata": {},
          "execution_count": 14
        }
      ]
    },
    {
      "cell_type": "code",
      "source": [],
      "metadata": {
        "id": "fQdCWYFJYJ_4"
      },
      "execution_count": null,
      "outputs": []
    }
  ]
}